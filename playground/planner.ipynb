{
 "cells": [
  {
   "cell_type": "code",
   "execution_count": 1,
   "id": "7c92403b-8133-4ce5-ab2e-aed8f5f31013",
   "metadata": {
    "tags": []
   },
   "outputs": [],
   "source": [
    "%matplotlib widget"
   ]
  },
  {
   "cell_type": "code",
   "execution_count": 2,
   "id": "396e6936-7a82-4b53-93f7-aa98a0d64d1b",
   "metadata": {
    "tags": []
   },
   "outputs": [
    {
     "name": "stderr",
     "output_type": "stream",
     "text": [
      "AWARE config file not found, using the default settings\n"
     ]
    }
   ],
   "source": [
    "import aware"
   ]
  },
  {
   "cell_type": "markdown",
   "id": "22df3ce7-c340-45ef-a968-466b14bd043a",
   "metadata": {},
   "source": [
    "## Provide the path to the actual catalog FITS table"
   ]
  },
  {
   "cell_type": "code",
   "execution_count": 3,
   "id": "8900647a-c2ef-48f4-9a3f-1b6d4ab20f53",
   "metadata": {
    "tags": []
   },
   "outputs": [],
   "source": [
    "aware.config.set_config_option_value(\"glade.main.catalog_path\", \"/mnt/e/Catalogs/GLADE_Plus/glade.fits\")"
   ]
  },
  {
   "cell_type": "code",
   "execution_count": 4,
   "id": "d5991228-d257-452d-a039-d36a45c08c3f",
   "metadata": {
    "tags": []
   },
   "outputs": [],
   "source": [
    "import os\n",
    "import asyncio\n",
    "from dataclasses import dataclass, field\n",
    "from textwrap import dedent\n",
    "import aware\n",
    "from datetime import datetime, timedelta\n",
    "import os\n",
    "from pprint import pprint\n",
    "import sys\n",
    "from typing import Sequence, Union\n",
    "from astropy.coordinates import EarthLocation, SkyCoord\n",
    "from astroplan.observer import Observer\n",
    "from astroplan import FixedTarget\n",
    "import astropy.units as u\n",
    "from astropy.time import Time, TimeDelta\n",
    "import matplotlib.pyplot as plt\n",
    "import numpy as np\n",
    "import pandas as pd\n",
    "from pathvalidate import sanitize_filepath\n",
    "from aware.sql.models import create_session\n",
    "from aware.alert.target_info import TargetInfo\n",
    "from ligo.skymap.io.fits import read_sky_map\n",
    "from ligo.skymap.moc import rasterize\n",
    "from aware.localization.main import LVCSkyMap\n",
    "from aware import site\n",
    "from aware.planning.program import create_observation_program\n",
    "from aware.consumer.main import save_file\n",
    "from aware.logger import log\n",
    "import click\n",
    "import asyncclick as click\n",
    "import aiofiles\n",
    "from astropy.coordinates import EarthLocation, AltAz\n",
    "from collections import defaultdict\n",
    "import pickle\n",
    "import aware\n",
    "from ligo.skymap.plot import ScaleBar\n",
    "from ligo.skymap.io.fits import write_sky_map\n",
    "from ligo.skymap.postprocess.util import find_greedy_credible_levels\n",
    "from ligo.skymap.postprocess.contour import contour\n",
    "from ligo.skymap.postprocess.crossmatch import crossmatch\n",
    "import matplotlib as mpl\n",
    "from astroplan.scheduling import PriorityScheduler, ObservingBlock, Slot, Scorer, Schedule\n",
    "from astroplan.constraints import MoonSeparationConstraint, SunSeparationConstraint\n",
    "import healpy as hp\n",
    "from aware.glade import GladeCatalog, GladeGalaxy\n",
    "from matplotlib.patches import PathPatch, Path, Arrow, FancyArrow\n",
    "from aware.planning.distributor import TargetDistributor, FieldDistributor, _get_target_hpx_id, _targets_per_night, paint_planned_healpix_from_galaxies\n",
    "from aware.planning.program import create_observation_program\n",
    "from aware.angle import coord_to_target_name\n",
    "import gc\n",
    "import re\n",
    "import glob\n",
    "from aware.planning.planner import SkymapPlanner\n",
    "from astropy.io import fits"
   ]
  },
  {
   "cell_type": "code",
   "execution_count": 5,
   "id": "39d1d12c-f396-4da1-9b2b-b0d1540358a9",
   "metadata": {
    "tags": []
   },
   "outputs": [],
   "source": [
    "url = \"https://gracedb.ligo.org/api/superevents/S230528a/files/bayestar.multiorder.fits,0\""
   ]
  },
  {
   "cell_type": "code",
   "execution_count": 6,
   "id": "6a0bfa61-b51b-43d6-915e-a8fb093b7746",
   "metadata": {
    "tags": []
   },
   "outputs": [],
   "source": [
    "sky_map = read_sky_map(url, nest=True, moc=True)"
   ]
  },
  {
   "cell_type": "code",
   "execution_count": 7,
   "id": "076c87e5-dbc9-4ac2-b8c8-42fdaef0d8b3",
   "metadata": {
    "tags": []
   },
   "outputs": [
    {
     "data": {
      "text/plain": [
       "'S230528a'"
      ]
     },
     "execution_count": 7,
     "metadata": {},
     "output_type": "execute_result"
    }
   ],
   "source": [
    "event_name = re.findall(\"S\\d{6}[a-zA-Z]+\", url)[0]\n",
    "event_name"
   ]
  },
  {
   "cell_type": "code",
   "execution_count": 8,
   "id": "0293ebbe-817e-41ec-813f-3952c75d68ca",
   "metadata": {
    "tags": []
   },
   "outputs": [],
   "source": [
    "hdr = sky_map.meta\n",
    "data = sky_map\n",
    "\n",
    "uniq = data[\"UNIQ\"]\n",
    "probdensity = data[\"PROBDENSITY\"]\n",
    "distmu = hdr[\"distmean\"] * u.Mpc\n",
    "distsigma = hdr[\"diststd\"] * u.Mpc\n",
    "\n",
    "loc = LVCSkyMap(\n",
    "    uniq=uniq,\n",
    "    data=data,\n",
    "    probdensity=probdensity,\n",
    "    distmu=distmu,\n",
    "    distsigma=distsigma,\n",
    ")\n",
    "\n",
    "info = TargetInfo(loc, \"\", \"\")"
   ]
  },
  {
   "cell_type": "code",
   "execution_count": 9,
   "id": "b99fc66c-656d-4376-b12c-66f95ba10883",
   "metadata": {
    "tags": []
   },
   "outputs": [
    {
     "data": {
      "text/plain": [
       "''"
      ]
     },
     "execution_count": 9,
     "metadata": {},
     "output_type": "execute_result"
    }
   ],
   "source": [
    "TargetInfo.event"
   ]
  },
  {
   "cell_type": "code",
   "execution_count": 10,
   "id": "3082a354-9c55-4811-bf48-df3cdeaaf0c2",
   "metadata": {
    "tags": []
   },
   "outputs": [],
   "source": [
    "wide_field_telescopes=[\"abao_as32\", \"kitab_rc36\", \"altai_santel400\", \"uafo_rc500\"]\n",
    "narrow_field_telescopes=[\"assy_azt20\", \"sao_ras_zeiss1000\", \"tshao_zeiss1000\"]"
   ]
  },
  {
   "cell_type": "code",
   "execution_count": 11,
   "id": "26bc56a0-79d9-4261-928e-7aa9c4d82552",
   "metadata": {
    "tags": []
   },
   "outputs": [],
   "source": [
    "p = SkymapPlanner(sky_map)"
   ]
  },
  {
   "cell_type": "code",
   "execution_count": 12,
   "id": "0e4a8028-55cc-44cf-8aed-79597cd7f693",
   "metadata": {
    "tags": []
   },
   "outputs": [
    {
     "data": {
      "text/plain": [
       "array([8.85543007e-09, 8.85543007e-09, 8.85543007e-09, ...,\n",
       "       2.92132307e-12, 2.92132307e-12, 2.92132307e-12])"
      ]
     },
     "execution_count": 12,
     "metadata": {},
     "output_type": "execute_result"
    }
   ],
   "source": [
    "p.event_hpx"
   ]
  },
  {
   "cell_type": "code",
   "execution_count": 13,
   "id": "f1f607d3-5a49-4929-9a1e-ff03480b3a70",
   "metadata": {
    "tags": []
   },
   "outputs": [
    {
     "name": "stderr",
     "output_type": "stream",
     "text": [
      "WARNING: TargetAlwaysUpWarning: Target with index 0 does not cross horizon=-18.0 deg within 24 hours [astroplan.observer]\n",
      "/home/halo/aware_dev/lib/python3.10/site-packages/erfa/core.py:154: ErfaWarning: ERFA function \"utctai\" yielded 1 of \"dubious year (Note 3)\"\n",
      "  warnings.warn('ERFA function \"{}\" yielded {}'.format(func_name, wmsg),\n",
      "/home/halo/aware_dev/lib/python3.10/site-packages/erfa/core.py:154: ErfaWarning: ERFA function \"d2dtf\" yielded 1 of \"dubious year (Note 5)\"\n",
      "  warnings.warn('ERFA function \"{}\" yielded {}'.format(func_name, wmsg),\n"
     ]
    },
    {
     "data": {
      "text/plain": [
       "array([8.85543007e-09, 8.85543007e-09, 8.85543007e-09, ...,\n",
       "       2.92132307e-12, 2.92132307e-12, 2.92132307e-12])"
      ]
     },
     "execution_count": 13,
     "metadata": {},
     "output_type": "execute_result"
    }
   ],
   "source": [
    "p.plan_observations(wide_field_telescopes=wide_field_telescopes, \n",
    "                    narrow_field_telescopes=narrow_field_telescopes,\n",
    "                    disable_intersections=False)"
   ]
  },
  {
   "cell_type": "code",
   "execution_count": 14,
   "id": "aa80d096-45bf-4a22-b759-c96b8db92a6b",
   "metadata": {
    "tags": []
   },
   "outputs": [
    {
     "name": "stderr",
     "output_type": "stream",
     "text": [
      "\u001b[33m2023-06-11 23:34:43,378.378  WARNING planner._save_block(): Observation program for AbAO AS-32 is empty\u001b[0m\n",
      "\u001b[33m2023-06-11 23:34:43,398.398  WARNING planner._save_block(): Observation program for Kitab-ISON RC-36 is empty\u001b[0m\n",
      "\u001b[33m2023-06-11 23:34:43,406.406  WARNING planner._save_block(): Observation program for Multa Santel-400 is empty\u001b[0m\n",
      "\u001b[33m2023-06-11 23:34:43,416.416  WARNING planner._save_block(): Observation program for Assy-Turgen AZT-20 is empty\u001b[0m\n",
      "\u001b[33m2023-06-11 23:34:43,427.427  WARNING planner._save_block(): Observation program for SAO RAS Zeiss-1000 is empty\u001b[0m\n",
      "\u001b[33m2023-06-11 23:34:43,438.438  WARNING planner._save_block(): Observation program for TSHAO Zeiss-1000 is empty\u001b[0m\n"
     ]
    },
    {
     "data": {
      "text/plain": [
       "{'abao_as32': '/mnt/e/Repositories/aware-repo/playground/abao_as32/fields__abao_as32_day1.txt',\n",
       " 'kitab_rc36': '/mnt/e/Repositories/aware-repo/playground/kitab_rc36/fields__kitab_rc36_day1.objlist',\n",
       " 'altai_santel400': '/mnt/e/Repositories/aware-repo/playground/altai_santel400/fields__altai_santel400_day1.objlist',\n",
       " 'assy_azt20': '/mnt/e/Repositories/aware-repo/playground/assy_azt20/galaxies__assy_azt20_day1.txt',\n",
       " 'sao_ras_zeiss1000': '/mnt/e/Repositories/aware-repo/playground/sao_ras_zeiss1000/galaxies__sao_ras_zeiss1000_day1.txt',\n",
       " 'tshao_zeiss1000': '/mnt/e/Repositories/aware-repo/playground/tshao_zeiss1000/galaxies__tshao_zeiss1000_day1.txt'}"
      ]
     },
     "execution_count": 14,
     "metadata": {},
     "output_type": "execute_result"
    }
   ],
   "source": [
    "p.save_blocks()"
   ]
  },
  {
   "cell_type": "code",
   "execution_count": 15,
   "id": "eb4fc8d2-e125-4cee-b4ee-629266320b29",
   "metadata": {},
   "outputs": [],
   "source": [
    "p.save_plan_fits()"
   ]
  },
  {
   "cell_type": "code",
   "execution_count": 16,
   "id": "06f99e0a-0317-46bc-9cb0-7a2869f1588a",
   "metadata": {
    "tags": []
   },
   "outputs": [
    {
     "data": {
      "text/plain": [
       "1"
      ]
     },
     "execution_count": 16,
     "metadata": {},
     "output_type": "execute_result"
    }
   ],
   "source": [
    "p.day"
   ]
  },
  {
   "cell_type": "code",
   "execution_count": 17,
   "id": "be119c35-5a05-43d2-9c81-e68b32156c30",
   "metadata": {
    "tags": []
   },
   "outputs": [
    {
     "ename": "UFuncTypeError",
     "evalue": "ufunc 'multiply' did not contain a loop with signature matching types (dtype([('PROBDENSITY', '<f8'), ('DISTMU', '<f8'), ('DISTSIGMA', '<f8'), ('DISTNORM', '<f8')]), dtype('float64')) -> None",
     "output_type": "error",
     "traceback": [
      "\u001b[0;31m---------------------------------------------------------------------------\u001b[0m",
      "\u001b[0;31mUFuncTypeError\u001b[0m                            Traceback (most recent call last)",
      "Cell \u001b[0;32mIn[17], line 1\u001b[0m\n\u001b[0;32m----> 1\u001b[0m \u001b[43mp\u001b[49m\u001b[38;5;241;43m.\u001b[39;49m\u001b[43mreset\u001b[49m\u001b[43m(\u001b[49m\u001b[43m)\u001b[49m\n",
      "File \u001b[0;32m/mnt/e/Repositories/aware-repo/aware/planning/planner.py:297\u001b[0m, in \u001b[0;36mSkymapPlanner.reset\u001b[0;34m(self)\u001b[0m\n\u001b[1;32m    295\u001b[0m nside \u001b[38;5;241m=\u001b[39m hp\u001b[38;5;241m.\u001b[39mget_nside(prob)\n\u001b[1;32m    296\u001b[0m area \u001b[38;5;241m=\u001b[39m hp\u001b[38;5;241m.\u001b[39mnside2pixarea(nside)\n\u001b[0;32m--> 297\u001b[0m \u001b[38;5;28mself\u001b[39m\u001b[38;5;241m.\u001b[39mevent_hpx \u001b[38;5;241m=\u001b[39m \u001b[43mdata\u001b[49m\u001b[43m \u001b[49m\u001b[38;5;241;43m*\u001b[39;49m\u001b[43m \u001b[49m\u001b[43marea\u001b[49m\n\u001b[1;32m    298\u001b[0m \u001b[38;5;28mself\u001b[39m\u001b[38;5;241m.\u001b[39mhpx_plan \u001b[38;5;241m=\u001b[39m \u001b[38;5;28;01mNone\u001b[39;00m\n\u001b[1;32m    299\u001b[0m \u001b[38;5;28mself\u001b[39m\u001b[38;5;241m.\u001b[39mday \u001b[38;5;241m=\u001b[39m \u001b[38;5;241m0\u001b[39m\n",
      "\u001b[0;31mUFuncTypeError\u001b[0m: ufunc 'multiply' did not contain a loop with signature matching types (dtype([('PROBDENSITY', '<f8'), ('DISTMU', '<f8'), ('DISTSIGMA', '<f8'), ('DISTNORM', '<f8')]), dtype('float64')) -> None"
     ]
    }
   ],
   "source": [
    "p.reset()"
   ]
  },
  {
   "cell_type": "code",
   "execution_count": null,
   "id": "ef0a125e-8e47-47d6-9dc8-b1b65da2c73f",
   "metadata": {
    "tags": []
   },
   "outputs": [],
   "source": [
    "hpx = p.event_hpx[\"PROBDENSITY\"]\n",
    "nside = hp.get_nside(hpx)\n",
    "area = hp.nside2pixarea(nside)\n",
    "hpx * area"
   ]
  },
  {
   "cell_type": "code",
   "execution_count": 18,
   "id": "9d2e9cd0-9856-4e84-98ba-37e9ce7f0597",
   "metadata": {
    "tags": []
   },
   "outputs": [
    {
     "data": {
      "text/plain": [
       "1"
      ]
     },
     "execution_count": 18,
     "metadata": {},
     "output_type": "execute_result"
    }
   ],
   "source": [
    "p.day"
   ]
  },
  {
   "cell_type": "code",
   "execution_count": null,
   "id": "b829b593-a56b-47a4-9485-3dc51ab129d5",
   "metadata": {},
   "outputs": [],
   "source": []
  }
 ],
 "metadata": {
  "kernelspec": {
   "display_name": "Python 3 (ipykernel)",
   "language": "python",
   "name": "python3"
  },
  "language_info": {
   "codemirror_mode": {
    "name": "ipython",
    "version": 3
   },
   "file_extension": ".py",
   "mimetype": "text/x-python",
   "name": "python",
   "nbconvert_exporter": "python",
   "pygments_lexer": "ipython3",
   "version": "3.10.6"
  }
 },
 "nbformat": 4,
 "nbformat_minor": 5
}
